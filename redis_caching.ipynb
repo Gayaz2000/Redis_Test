{
  "nbformat": 4,
  "nbformat_minor": 0,
  "metadata": {
    "colab": {
      "provenance": [],
      "authorship_tag": "ABX9TyMtK18LcIvyQs/KP3I4PoSS",
      "include_colab_link": true
    },
    "kernelspec": {
      "name": "python3",
      "display_name": "Python 3"
    },
    "language_info": {
      "name": "python"
    }
  },
  "cells": [
    {
      "cell_type": "markdown",
      "metadata": {
        "id": "view-in-github",
        "colab_type": "text"
      },
      "source": [
        "<a href=\"https://colab.research.google.com/github/Gayaz2000/Redis_Test/blob/main/redis_caching.ipynb\" target=\"_parent\"><img src=\"https://colab.research.google.com/assets/colab-badge.svg\" alt=\"Open In Colab\"/></a>"
      ]
    },
    {
      "cell_type": "code",
      "execution_count": 2,
      "metadata": {
        "colab": {
          "base_uri": "https://localhost:8080/"
        },
        "collapsed": true,
        "id": "MXoLTAQ0-eeu",
        "outputId": "a790ba3d-9980-416f-aa96-e702052821eb"
      },
      "outputs": [
        {
          "output_type": "stream",
          "name": "stdout",
          "text": [
            "Requirement already satisfied: langchain_community in /usr/local/lib/python3.11/dist-packages (0.3.27)\n",
            "Requirement already satisfied: langchain_core in /usr/local/lib/python3.11/dist-packages (0.3.72)\n",
            "Requirement already satisfied: langchain_redis in /usr/local/lib/python3.11/dist-packages (0.2.3)\n",
            "Requirement already satisfied: redis in /usr/local/lib/python3.11/dist-packages (6.2.0)\n",
            "Requirement already satisfied: langchain_groq in /usr/local/lib/python3.11/dist-packages (0.3.6)\n",
            "Collecting langchain_ollama\n",
            "  Downloading langchain_ollama-0.3.6-py3-none-any.whl.metadata (2.1 kB)\n",
            "Requirement already satisfied: langchain<1.0.0,>=0.3.26 in /usr/local/lib/python3.11/dist-packages (from langchain_community) (0.3.27)\n",
            "Requirement already satisfied: SQLAlchemy<3,>=1.4 in /usr/local/lib/python3.11/dist-packages (from langchain_community) (2.0.41)\n",
            "Requirement already satisfied: requests<3,>=2 in /usr/local/lib/python3.11/dist-packages (from langchain_community) (2.32.3)\n",
            "Requirement already satisfied: PyYAML>=5.3 in /usr/local/lib/python3.11/dist-packages (from langchain_community) (6.0.2)\n",
            "Requirement already satisfied: aiohttp<4.0.0,>=3.8.3 in /usr/local/lib/python3.11/dist-packages (from langchain_community) (3.12.14)\n",
            "Requirement already satisfied: tenacity!=8.4.0,<10,>=8.1.0 in /usr/local/lib/python3.11/dist-packages (from langchain_community) (8.5.0)\n",
            "Requirement already satisfied: dataclasses-json<0.7,>=0.5.7 in /usr/local/lib/python3.11/dist-packages (from langchain_community) (0.6.7)\n",
            "Requirement already satisfied: pydantic-settings<3.0.0,>=2.4.0 in /usr/local/lib/python3.11/dist-packages (from langchain_community) (2.10.1)\n",
            "Requirement already satisfied: langsmith>=0.1.125 in /usr/local/lib/python3.11/dist-packages (from langchain_community) (0.4.8)\n",
            "Requirement already satisfied: httpx-sse<1.0.0,>=0.4.0 in /usr/local/lib/python3.11/dist-packages (from langchain_community) (0.4.1)\n",
            "Requirement already satisfied: numpy>=1.26.2 in /usr/local/lib/python3.11/dist-packages (from langchain_community) (2.0.2)\n",
            "Requirement already satisfied: jsonpatch<2.0,>=1.33 in /usr/local/lib/python3.11/dist-packages (from langchain_core) (1.33)\n",
            "Requirement already satisfied: typing-extensions>=4.7 in /usr/local/lib/python3.11/dist-packages (from langchain_core) (4.14.1)\n",
            "Requirement already satisfied: packaging>=23.2 in /usr/local/lib/python3.11/dist-packages (from langchain_core) (25.0)\n",
            "Requirement already satisfied: pydantic>=2.7.4 in /usr/local/lib/python3.11/dist-packages (from langchain_core) (2.11.7)\n",
            "Requirement already satisfied: anyio<5.0.0,>=4.9.0 in /usr/local/lib/python3.11/dist-packages (from langchain_redis) (4.9.0)\n",
            "Requirement already satisfied: certifi<2026.0.0,>=2025.4.26 in /usr/local/lib/python3.11/dist-packages (from langchain_redis) (2025.7.14)\n",
            "Requirement already satisfied: httpcore<2.0.0,>=1.0.9 in /usr/local/lib/python3.11/dist-packages (from langchain_redis) (1.0.9)\n",
            "Requirement already satisfied: jinja2<4.0.0,>=3.1.6 in /usr/local/lib/python3.11/dist-packages (from langchain_redis) (3.1.6)\n",
            "Requirement already satisfied: python-ulid>=3.0.0 in /usr/local/lib/python3.11/dist-packages (from langchain_redis) (3.0.0)\n",
            "Requirement already satisfied: redisvl<1.0.0,>=0.6.0 in /usr/local/lib/python3.11/dist-packages (from langchain_redis) (0.8.0)\n",
            "Requirement already satisfied: urllib3<3.0.0,>=2.4.0 in /usr/local/lib/python3.11/dist-packages (from langchain_redis) (2.5.0)\n",
            "Requirement already satisfied: groq<1,>=0.29.0 in /usr/local/lib/python3.11/dist-packages (from langchain_groq) (0.30.0)\n",
            "Collecting ollama<1.0.0,>=0.5.1 (from langchain_ollama)\n",
            "  Downloading ollama-0.5.1-py3-none-any.whl.metadata (4.3 kB)\n",
            "Requirement already satisfied: aiohappyeyeballs>=2.5.0 in /usr/local/lib/python3.11/dist-packages (from aiohttp<4.0.0,>=3.8.3->langchain_community) (2.6.1)\n",
            "Requirement already satisfied: aiosignal>=1.4.0 in /usr/local/lib/python3.11/dist-packages (from aiohttp<4.0.0,>=3.8.3->langchain_community) (1.4.0)\n",
            "Requirement already satisfied: attrs>=17.3.0 in /usr/local/lib/python3.11/dist-packages (from aiohttp<4.0.0,>=3.8.3->langchain_community) (25.3.0)\n",
            "Requirement already satisfied: frozenlist>=1.1.1 in /usr/local/lib/python3.11/dist-packages (from aiohttp<4.0.0,>=3.8.3->langchain_community) (1.7.0)\n",
            "Requirement already satisfied: multidict<7.0,>=4.5 in /usr/local/lib/python3.11/dist-packages (from aiohttp<4.0.0,>=3.8.3->langchain_community) (6.6.3)\n",
            "Requirement already satisfied: propcache>=0.2.0 in /usr/local/lib/python3.11/dist-packages (from aiohttp<4.0.0,>=3.8.3->langchain_community) (0.3.2)\n",
            "Requirement already satisfied: yarl<2.0,>=1.17.0 in /usr/local/lib/python3.11/dist-packages (from aiohttp<4.0.0,>=3.8.3->langchain_community) (1.20.1)\n",
            "Requirement already satisfied: idna>=2.8 in /usr/local/lib/python3.11/dist-packages (from anyio<5.0.0,>=4.9.0->langchain_redis) (3.10)\n",
            "Requirement already satisfied: sniffio>=1.1 in /usr/local/lib/python3.11/dist-packages (from anyio<5.0.0,>=4.9.0->langchain_redis) (1.3.1)\n",
            "Requirement already satisfied: marshmallow<4.0.0,>=3.18.0 in /usr/local/lib/python3.11/dist-packages (from dataclasses-json<0.7,>=0.5.7->langchain_community) (3.26.1)\n",
            "Requirement already satisfied: typing-inspect<1,>=0.4.0 in /usr/local/lib/python3.11/dist-packages (from dataclasses-json<0.7,>=0.5.7->langchain_community) (0.9.0)\n",
            "Requirement already satisfied: distro<2,>=1.7.0 in /usr/local/lib/python3.11/dist-packages (from groq<1,>=0.29.0->langchain_groq) (1.9.0)\n",
            "Requirement already satisfied: httpx<1,>=0.23.0 in /usr/local/lib/python3.11/dist-packages (from groq<1,>=0.29.0->langchain_groq) (0.28.1)\n",
            "Requirement already satisfied: h11>=0.16 in /usr/local/lib/python3.11/dist-packages (from httpcore<2.0.0,>=1.0.9->langchain_redis) (0.16.0)\n",
            "Requirement already satisfied: MarkupSafe>=2.0 in /usr/local/lib/python3.11/dist-packages (from jinja2<4.0.0,>=3.1.6->langchain_redis) (3.0.2)\n",
            "Requirement already satisfied: jsonpointer>=1.9 in /usr/local/lib/python3.11/dist-packages (from jsonpatch<2.0,>=1.33->langchain_core) (3.0.0)\n",
            "Requirement already satisfied: langchain-text-splitters<1.0.0,>=0.3.9 in /usr/local/lib/python3.11/dist-packages (from langchain<1.0.0,>=0.3.26->langchain_community) (0.3.9)\n",
            "Requirement already satisfied: orjson<4.0.0,>=3.9.14 in /usr/local/lib/python3.11/dist-packages (from langsmith>=0.1.125->langchain_community) (3.11.0)\n",
            "Requirement already satisfied: requests-toolbelt<2.0.0,>=1.0.0 in /usr/local/lib/python3.11/dist-packages (from langsmith>=0.1.125->langchain_community) (1.0.0)\n",
            "Requirement already satisfied: zstandard<0.24.0,>=0.23.0 in /usr/local/lib/python3.11/dist-packages (from langsmith>=0.1.125->langchain_community) (0.23.0)\n",
            "Requirement already satisfied: annotated-types>=0.6.0 in /usr/local/lib/python3.11/dist-packages (from pydantic>=2.7.4->langchain_core) (0.7.0)\n",
            "Requirement already satisfied: pydantic-core==2.33.2 in /usr/local/lib/python3.11/dist-packages (from pydantic>=2.7.4->langchain_core) (2.33.2)\n",
            "Requirement already satisfied: typing-inspection>=0.4.0 in /usr/local/lib/python3.11/dist-packages (from pydantic>=2.7.4->langchain_core) (0.4.1)\n",
            "Requirement already satisfied: python-dotenv>=0.21.0 in /usr/local/lib/python3.11/dist-packages (from pydantic-settings<3.0.0,>=2.4.0->langchain_community) (1.1.1)\n",
            "Requirement already satisfied: jsonpath-ng>=1.5.0 in /usr/local/lib/python3.11/dist-packages (from redisvl<1.0.0,>=0.6.0->langchain_redis) (1.7.0)\n",
            "Requirement already satisfied: ml-dtypes<1.0.0,>=0.4.0 in /usr/local/lib/python3.11/dist-packages (from redisvl<1.0.0,>=0.6.0->langchain_redis) (0.4.1)\n",
            "Requirement already satisfied: charset-normalizer<4,>=2 in /usr/local/lib/python3.11/dist-packages (from requests<3,>=2->langchain_community) (3.4.2)\n",
            "Requirement already satisfied: greenlet>=1 in /usr/local/lib/python3.11/dist-packages (from SQLAlchemy<3,>=1.4->langchain_community) (3.2.3)\n",
            "Requirement already satisfied: ply in /usr/local/lib/python3.11/dist-packages (from jsonpath-ng>=1.5.0->redisvl<1.0.0,>=0.6.0->langchain_redis) (3.11)\n",
            "Requirement already satisfied: mypy-extensions>=0.3.0 in /usr/local/lib/python3.11/dist-packages (from typing-inspect<1,>=0.4.0->dataclasses-json<0.7,>=0.5.7->langchain_community) (1.1.0)\n",
            "Downloading langchain_ollama-0.3.6-py3-none-any.whl (24 kB)\n",
            "Downloading ollama-0.5.1-py3-none-any.whl (13 kB)\n",
            "Installing collected packages: ollama, langchain_ollama\n",
            "Successfully installed langchain_ollama-0.3.6 ollama-0.5.1\n"
          ]
        }
      ],
      "source": [
        "!pip install langchain_community langchain_core langchain_redis redis langchain_groq langchain_ollama"
      ]
    },
    {
      "cell_type": "code",
      "source": [
        "import os\n",
        "import getpass\n",
        "\n",
        "os.environ[\"GROQ_API_KEY\"] = getpass.getpass(\"Enter Groq api key: \")"
      ],
      "metadata": {
        "colab": {
          "base_uri": "https://localhost:8080/"
        },
        "id": "7B_42B-bANUu",
        "outputId": "ca34dd8a-1996-423a-acc6-015907838837"
      },
      "execution_count": 4,
      "outputs": [
        {
          "name": "stdout",
          "output_type": "stream",
          "text": [
            "Enter Groq api key: ··········\n"
          ]
        }
      ]
    },
    {
      "cell_type": "markdown",
      "source": [
        "### Load dependecies"
      ],
      "metadata": {
        "id": "TCAkLgKZ_kcy"
      }
    },
    {
      "cell_type": "code",
      "source": [
        "import time\n",
        "import redis\n",
        "\n",
        "from langchain_core.globals import set_llm_cache\n",
        "from langchain_groq import ChatGroq\n",
        "from langchain_redis import RedisCache, RedisSemanticCache\n",
        "from langchain_ollama import OllamaEmbeddings"
      ],
      "metadata": {
        "id": "e2DcLwU0-1nf"
      },
      "execution_count": 3,
      "outputs": []
    },
    {
      "cell_type": "markdown",
      "source": [
        "### Connecting to Redis"
      ],
      "metadata": {
        "id": "TYE06Z7g_ggz"
      }
    },
    {
      "cell_type": "code",
      "source": [
        "REDIS_URL = getpass.getpass(\"Enter Redis URL: \") #\"redis://localhost:6379\"\n",
        "redis_client = redis.from_url(REDIS_URL)\n",
        "redis_client.ping()"
      ],
      "metadata": {
        "id": "ymQ5d1gu_f60"
      },
      "execution_count": null,
      "outputs": []
    },
    {
      "cell_type": "markdown",
      "source": [
        "### Using Redis for Standard Cache"
      ],
      "metadata": {
        "id": "yzEEVQsFBHMQ"
      }
    },
    {
      "cell_type": "code",
      "source": [
        "redis_cache = RedisCache(redis_url=REDIS_URL)\n",
        "set_llm_cache(redis_cache)\n",
        "\n",
        "llm = ChatGroq(model=\"gemma2-9b-it\")\n",
        "\n",
        "def execute_with_timing(prompt):\n",
        "  start_time = time.time()\n",
        "  result = llm.invoke(prompt)\n",
        "  end_time = time.time()\n",
        "  return result, end_time - start_time"
      ],
      "metadata": {
        "id": "l_McPyvyAvz4"
      },
      "execution_count": null,
      "outputs": []
    },
    {
      "cell_type": "markdown",
      "source": [
        "#### Usecase"
      ],
      "metadata": {
        "id": "PGHsV1_kCRZS"
      }
    },
    {
      "cell_type": "code",
      "source": [
        "prompt = \"\"\n",
        "result, time_taken = execute_with_timing(prompt)\n",
        "print(f\"Result: {result}\")\n",
        "print(f\"Time taken: {time_taken}\")"
      ],
      "metadata": {
        "id": "isVNQXYMCNfl"
      },
      "execution_count": null,
      "outputs": []
    },
    {
      "cell_type": "code",
      "source": [
        "prompt = \"\"\n",
        "result, time_taken = execute_with_timing(prompt)\n",
        "print(f\"Result: {result}\")\n",
        "print(f\"Time taken: {time_taken}\")"
      ],
      "metadata": {
        "id": "nXz9i8XFD8Ng"
      },
      "execution_count": null,
      "outputs": []
    },
    {
      "cell_type": "code",
      "source": [
        "# redis_cache.clear() # removes stored cache"
      ],
      "metadata": {
        "id": "zL4S2wShDCvd"
      },
      "execution_count": null,
      "outputs": []
    },
    {
      "cell_type": "markdown",
      "source": [
        "### Using Redis Semantic Caching"
      ],
      "metadata": {
        "id": "gty4vkDcCgkO"
      }
    },
    {
      "cell_type": "code",
      "source": [
        "embedding = OllamaEmbeddings(model=\"llama3.2:1b\")\n",
        "redis_semantic_cache = RedisSemanticCache(\n",
        "    embeddings= embedding,\n",
        "    redis_url=REDIS_URL,\n",
        "    distance_threshold= 0.2\n",
        "    )\n",
        "\n",
        "set_llm_cache(redis_semantic_cache)"
      ],
      "metadata": {
        "id": "4Kl9m2fsCoNe"
      },
      "execution_count": null,
      "outputs": []
    },
    {
      "cell_type": "markdown",
      "source": [
        "#### Usecase"
      ],
      "metadata": {
        "id": "W73ssOQ0Dx-C"
      }
    },
    {
      "cell_type": "code",
      "source": [
        "prompt = \"\"\n",
        "result, time_taken = execute_with_timing(prompt)\n",
        "print(f\"Result: {result}\")\n",
        "print(f\"Time taken: {time_taken}\")"
      ],
      "metadata": {
        "id": "t4Ncx2dlDvMK"
      },
      "execution_count": null,
      "outputs": []
    },
    {
      "cell_type": "code",
      "source": [
        "prompt = \"\"\n",
        "result, time_taken = execute_with_timing(prompt)\n",
        "print(f\"Result: {result}\")\n",
        "print(f\"Time taken: {time_taken}\")"
      ],
      "metadata": {
        "id": "DNIEgVp7D6_p"
      },
      "execution_count": null,
      "outputs": []
    },
    {
      "cell_type": "code",
      "source": [
        "# redis_semantic_cache.clear()"
      ],
      "metadata": {
        "id": "8xmmHI-kEDgg"
      },
      "execution_count": null,
      "outputs": []
    },
    {
      "cell_type": "markdown",
      "source": [
        "## Chat Message History using redis"
      ],
      "metadata": {
        "id": "v7_69GSqFQs-"
      }
    },
    {
      "cell_type": "code",
      "source": [
        "from langchain_core.chat_history import BaseChatMessageHistory\n",
        "from langchain_core.prompts import ChatPromptTemplate, MessagesPlaceholder\n",
        "from langchain_core.runnables.history import RunnableWithMessageHistory\n",
        "from langchain_redis import RedisChatMessageHistory\n",
        "\n",
        "session_id = \"\"\n",
        "\n",
        "redis_message_history = RedisChatMessageHistory(\n",
        "    session_id=session_id,\n",
        "    redis_url=REDIS_URL,\n",
        ")"
      ],
      "metadata": {
        "id": "kOtmkAAkFT3M"
      },
      "execution_count": null,
      "outputs": []
    },
    {
      "cell_type": "code",
      "source": [
        "redis_message_history.add_user_message(\"Hi, AI system\")\n",
        "redis_message_history.add_ai_message(\"Hello!, How can I help you.\") # Response for query"
      ],
      "metadata": {
        "id": "sQ31jvyRGbj6"
      },
      "execution_count": null,
      "outputs": []
    },
    {
      "cell_type": "code",
      "source": [
        "redis_message_history.messages"
      ],
      "metadata": {
        "id": "LG2yr4BQG6ek"
      },
      "execution_count": null,
      "outputs": []
    },
    {
      "cell_type": "markdown",
      "source": [
        "### Chatbot integration"
      ],
      "metadata": {
        "id": "NkkGsf6sHAx8"
      }
    },
    {
      "cell_type": "code",
      "source": [
        "prompt = ChatPromptTemplate.from_messages(\n",
        "    [\n",
        "        (\"system\", \"You are a helpful assistant\"),\n",
        "        MessagesPlaceholder(variable_name=\"chat_history\"),\n",
        "        (\"human\", \"{question}\"),\n",
        "    ]\n",
        ")\n",
        "\n",
        "chain = prompt | llm"
      ],
      "metadata": {
        "id": "X3pvkhgUHADB"
      },
      "execution_count": null,
      "outputs": []
    },
    {
      "cell_type": "code",
      "source": [
        "def get_redis_chat_history(session_id: str)-> BaseChatMessageHistory:\n",
        "  return RedisChatMessageHistory(session_id=session_id, redis_url= REDIS_URL)"
      ],
      "metadata": {
        "id": "zi8EfqwRHdEv"
      },
      "execution_count": null,
      "outputs": []
    },
    {
      "cell_type": "code",
      "source": [
        "chain_with_chat_history = RunnableWithMessageHistory(\n",
        "    chain,\n",
        "    get_session_history= get_redis_chat_history,\n",
        "    input_messages_key= \"input\",\n",
        "    history_messages_key=\"history\"\n",
        ")\n",
        "\n",
        "response = chain_with_chat_history.invoke(\n",
        "    {\"input\": \"Hi, AI system\"},\n",
        "    config={\"configurable\":{\"session_id\":\"1\"}}\n",
        ")\n",
        "print(response)"
      ],
      "metadata": {
        "id": "AumsQmOAHuCA"
      },
      "execution_count": null,
      "outputs": []
    },
    {
      "cell_type": "code",
      "source": [
        "redis_message_history.clear()"
      ],
      "metadata": {
        "id": "CbryQ65HIo6-"
      },
      "execution_count": null,
      "outputs": []
    }
  ]
}